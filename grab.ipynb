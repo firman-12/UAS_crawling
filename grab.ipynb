{
  "nbformat": 4,
  "nbformat_minor": 0,
  "metadata": {
    "colab": {
      "name": "grab.ipynb",
      "provenance": []
    },
    "kernelspec": {
      "name": "python3",
      "display_name": "Python 3"
    }
  },
  "cells": [
    {
      "cell_type": "code",
      "metadata": {
        "id": "k0rIMNkZTX20"
      },
      "source": [
        "import tweepy\r\n",
        "from textblob import TextBlob\r\n",
        "from wordcloud import WordCloud \r\n",
        "import pandas as pd\r\n",
        "import numpy as np\r\n",
        "import re\r\n",
        "import matplotlib.pyplot as plt\r\n",
        "plt.style.use('fivethirtyeight')"
      ],
      "execution_count": 1,
      "outputs": []
    },
    {
      "cell_type": "code",
      "metadata": {
        "id": "Izv_v_4BTpOg"
      },
      "source": [
        "Consumer_Key = \"nb5VzF8M2hYRUPzPj9yjsaMeV\"\r\n",
        "Consumer_Secret_Key = \"nvbStoMT2WK4k3DI7FVwNbaetpmNTAhKLvxtWur4qxekXJtNaQ\"\r\n",
        "Access_Token = \"1340144467936858115-aXLW795dsyaqzsCdzkGGHObgrQu1UC\"\r\n",
        "Access_Token_Secret = \"jQ6bVgYRbtDC7uavy5ib61gGxcQDWyhDXjANHQ6ZNhK64\""
      ],
      "execution_count": 3,
      "outputs": []
    },
    {
      "cell_type": "code",
      "metadata": {
        "id": "3HMyOGwOYFR7"
      },
      "source": [
        "auth = tweepy.OAuthHandler(Consumer_Key,Consumer_Secret_Key)\r\n",
        "auth.set_access_token(Access_Token,Access_Token_Secret)\r\n",
        "api = tweepy.API(auth,wait_on_rate_limit=True)"
      ],
      "execution_count": 4,
      "outputs": []
    },
    {
      "cell_type": "code",
      "metadata": {
        "colab": {
          "base_uri": "https://localhost:8080/"
        },
        "id": "fyKpgnzVYHaD",
        "outputId": "cdc03043-0c81-415c-f54f-c9189936b2e8"
      },
      "source": [
        "posts = api.user_timeline(screen_name=\"grab\", count = 2000, lang =\"en\", tweet_mode=\"extended\")\r\n",
        "\r\n",
        "# Print 30 tweet\r\n",
        "print(\"Show the 30 recent tweets:\\n\")\r\n",
        "i=1\r\n",
        "for tweet in posts[:30]:\r\n",
        "  print(str(i) +') '+ tweet.full_text + '\\n')\r\n",
        "  i= i+1"
      ],
      "execution_count": 11,
      "outputs": [
        {
          "output_type": "stream",
          "text": [
            "Show the 30 recent tweets:\n",
            "\n",
            "1) RT @AmoebaBattle: Amoeba Battle: Microscopic RTS Action from @Grab launches March 3rd on PS4, Switch, Steam, and Xbox One!  Cross play supp…\n",
            "\n",
            "2) @prtdomingo please be advised that you tagged Grab VR games, not grab taxi.\n",
            "\n",
            "3) @mee_eeeg Sorry, you're sending emails to the wrong contact list. This is Grab Games VR development, not grab taxi.\n",
            "\n",
            "4) RT @GamerjibeSocial: Want to lean, rotate, zoom, and walk with your favorite players in-game while they are playing? Well, you now can with…\n",
            "\n",
            "5) RT @VentureBeat: GameviewAR turns Counter-Strike shootouts into AR esports replays https://t.co/3zqzaNsIlN by @horwitz\n",
            "\n",
            "6) Introducing GameviewAR: Watch games &amp; highlights in a whole new way with augmented reality. #AR #ARCore\n",
            "\n",
            "Get the preview version: https://t.co/V0Wu3M1Uvy https://t.co/Hi7rji3gWj\n",
            "\n",
            "7) RT @VRFocus: Watch Counter-Strike in #AR with ARCore-powered app gameviewAR: https://t.co/pDxnq07kw8 #gdc18 https://t.co/XCceJE6G1h\n",
            "\n",
            "8) RT @vrgamecritic: Knockout League [9/10] @desconsolados – an essential #VR purchase for everyone who’s looking for a fun way to exercise ht…\n",
            "\n",
            "9) We're at the #CreatingReality hackathon at USC! Members of Grab are leading workshops on using Git with Unity &amp; designing for #AR. Excited to see the projects that get built! https://t.co/Cc5kcJsuYK\n",
            "\n",
            "10) RT @vrgamecritic: Knockout League [8.5/10] @PSNation: “if you enjoy the notion of burning calories while playing a video game, look no furt…\n",
            "\n",
            "11) RT @knockout_league: Our Reddit AMA is Live on r/PSVR! Ask us anything 🥊\n",
            "\n",
            "https://t.co/7m1qezev9h\n",
            "\n",
            "12) RT @knockout_league: Join us tomorrow, Feb 21, at 11am pacific on the PSVR Reddit community for an AMA with key members of the Knockout Lea…\n",
            "\n",
            "13) RT @PlayStation: Wait, a boxing octopus? How is that fair? @grab shares some tips to handle Knockout League's trickiest opponents: https://…\n",
            "\n",
            "14) It's here: The full version of @knockout_league is out today on all major VR platforms! https://t.co/uCxutOK7gG\n",
            "\n",
            "15) RT @PlayStation: These fighters may look cartoony, but don't take them lightly. Built from the ground up for virtual reality, Knockout Leag…\n",
            "\n",
            "16) RT @htcvive: Today, the full release of Knockout League is launching on Vive, Oculus and PlayStation VR. \n",
            "\n",
            "Now the greater VR community can…\n",
            "\n",
            "17) RT @steam_games: Now Available on Steam - Knockout League - Arcade VR Boxing, 10% off! #SteamNewRelease https://t.co/PymO5EuEz6 https://t.c…\n",
            "\n",
            "18) RT @PS4VRNews: Ding ding! Knockout League is coming to PlayStation VR next week! #PSVR https://t.co/8tFOE8kYUV\n",
            "\n",
            "19) RT @Viveport: Step into the ring, @knockout_league has launched! Experience all-new gameplay, all-new fighters and more!\n",
            "\n",
            "Add #KnockoutLeag…\n",
            "\n",
            "20) RT @BenAshbrook: Mid-dodge with my friends over at @Grab Games. Some next level AR/VR goodness happening here. Big ups to the @knockout_lea…\n",
            "\n",
            "21) Grab's @knockout_league was a hit at this year's #DellExperience #CES2018! https://t.co/Za1qu8SA7h\n",
            "\n",
            "22) RT @justcallmemeg: First time at #CES - totally different to any of the European conferences I've attended. Loving our #DellExperience at t…\n",
            "\n",
            "23) RT @VRGaryatDell: AR VR mashup from Grab games’ Knockout League. One plays in VR, the other watches the boxing ring action on the table in…\n",
            "\n",
            "24) Get an inside look at Seagate’s booth at this year’s #CES, featuring Grab developed projects at 0:43 and 1:25! https://t.co/cx2ceCGbbm\n",
            "\n",
            "25) RT @TwitterMktg: Your guide to coping with the #CESblackout ⚡️ “The lights went out at #CES2018 and everyone was like 😱🤔”\n",
            "\n",
            "https://t.co/0kD…\n",
            "\n",
            "26) RT @martyswant: Floyd Mayweather boxing in VR https://t.co/QnEcNubfar\n",
            "\n",
            "27) RT @metaglasses: Knockout at the @Seagate and @Alienware booth at #CES2018! #AR https://t.co/oi1AEPGAnl\n",
            "\n",
            "28) LET'S GET READY TO RUMBLE @knockout_league @Seagate #DataGames #CES2018 https://t.co/n9FrXJIK28\n",
            "\n",
            "29) Wireless VR, Vive Pro, &amp; a VR first app store! We're 😍 about every part of this announcement from @htcvive #CES2018 https://t.co/VUcmtgPLe7\n",
            "\n",
            "30) Who has 4 letters and is at #CES2018? This team! Follow us for the latest from Grab at CES.\n",
            "\n"
          ],
          "name": "stdout"
        }
      ]
    },
    {
      "cell_type": "code",
      "metadata": {
        "id": "2m5VghudcFEI",
        "outputId": "c91ae113-3fb2-47f7-cbac-b028d7022105",
        "colab": {
          "base_uri": "https://localhost:8080/",
          "height": 204
        }
      },
      "source": [
        "df = pd.DataFrame([tweet.full_text for tweet in posts], columns=['Tweets'])\r\n",
        "# Show the first 5 rows of data\r\n",
        "df.head()"
      ],
      "execution_count": 13,
      "outputs": [
        {
          "output_type": "execute_result",
          "data": {
            "text/html": [
              "<div>\n",
              "<style scoped>\n",
              "    .dataframe tbody tr th:only-of-type {\n",
              "        vertical-align: middle;\n",
              "    }\n",
              "\n",
              "    .dataframe tbody tr th {\n",
              "        vertical-align: top;\n",
              "    }\n",
              "\n",
              "    .dataframe thead th {\n",
              "        text-align: right;\n",
              "    }\n",
              "</style>\n",
              "<table border=\"1\" class=\"dataframe\">\n",
              "  <thead>\n",
              "    <tr style=\"text-align: right;\">\n",
              "      <th></th>\n",
              "      <th>Tweets</th>\n",
              "    </tr>\n",
              "  </thead>\n",
              "  <tbody>\n",
              "    <tr>\n",
              "      <th>0</th>\n",
              "      <td>@bijikera Ada yang bisa Mimin bantu? Silakan i...</td>\n",
              "    </tr>\n",
              "    <tr>\n",
              "      <th>1</th>\n",
              "      <td>@zhena86291207 Hai, Kak Zhena. Maaf ya untuk k...</td>\n",
              "    </tr>\n",
              "    <tr>\n",
              "      <th>2</th>\n",
              "      <td>@naqsbaik Baik, Kak. Jika Kakak udah konfirmas...</td>\n",
              "    </tr>\n",
              "    <tr>\n",
              "      <th>3</th>\n",
              "      <td>@ndew_orr Siap, Kak Ndew. Mohon ditunggu inter...</td>\n",
              "    </tr>\n",
              "    <tr>\n",
              "      <th>4</th>\n",
              "      <td>@alfaruqrecobaa Hai, Kak Faroeq. Maafin banget...</td>\n",
              "    </tr>\n",
              "  </tbody>\n",
              "</table>\n",
              "</div>"
            ],
            "text/plain": [
              "                                              Tweets\n",
              "0  @bijikera Ada yang bisa Mimin bantu? Silakan i...\n",
              "1  @zhena86291207 Hai, Kak Zhena. Maaf ya untuk k...\n",
              "2  @naqsbaik Baik, Kak. Jika Kakak udah konfirmas...\n",
              "3  @ndew_orr Siap, Kak Ndew. Mohon ditunggu inter...\n",
              "4  @alfaruqrecobaa Hai, Kak Faroeq. Maafin banget..."
            ]
          },
          "metadata": {
            "tags": []
          },
          "execution_count": 13
        }
      ]
    },
    {
      "cell_type": "code",
      "metadata": {
        "id": "uQO0Q0HAcRb9",
        "outputId": "05bcfd14-e2fd-49f7-fa92-47638709ac87",
        "colab": {
          "base_uri": "https://localhost:8080/",
          "height": 669
        }
      },
      "source": [
        "# Create a function to clean the tweets\r\n",
        "def cleanTxt(text):\r\n",
        " text = re.sub('@[A-Za-z0–9]+', '', text) #Removing @mentions\r\n",
        " text = re.sub('#', '', text) # Removing '#' hash tag\r\n",
        " text = re.sub('RT[\\s]+', '', text) # Removing RT\r\n",
        " text = re.sub('https?:\\/\\/\\S+', '', text) # Removing hyperlink\r\n",
        " \r\n",
        " return text\r\n",
        "\r\n",
        "\r\n",
        "# Clean the tweets\r\n",
        "df['Tweets'] = df['Tweets'].apply(cleanTxt)\r\n",
        "\r\n",
        "# Show the cleaned tweets\r\n",
        "df"
      ],
      "execution_count": 14,
      "outputs": [
        {
          "output_type": "execute_result",
          "data": {
            "text/html": [
              "<div>\n",
              "<style scoped>\n",
              "    .dataframe tbody tr th:only-of-type {\n",
              "        vertical-align: middle;\n",
              "    }\n",
              "\n",
              "    .dataframe tbody tr th {\n",
              "        vertical-align: top;\n",
              "    }\n",
              "\n",
              "    .dataframe thead th {\n",
              "        text-align: right;\n",
              "    }\n",
              "</style>\n",
              "<table border=\"1\" class=\"dataframe\">\n",
              "  <thead>\n",
              "    <tr style=\"text-align: right;\">\n",
              "      <th></th>\n",
              "      <th>Tweets</th>\n",
              "    </tr>\n",
              "  </thead>\n",
              "  <tbody>\n",
              "    <tr>\n",
              "      <th>0</th>\n",
              "      <td>Ada yang bisa Mimin bantu? Silakan infokan de...</td>\n",
              "    </tr>\n",
              "    <tr>\n",
              "      <th>1</th>\n",
              "      <td>86291207 Hai, Kak Zhena. Maaf ya untuk kendala...</td>\n",
              "    </tr>\n",
              "    <tr>\n",
              "      <th>2</th>\n",
              "      <td>Baik, Kak. Jika Kakak udah konfirmasi ke DM m...</td>\n",
              "    </tr>\n",
              "    <tr>\n",
              "      <th>3</th>\n",
              "      <td>_orr Siap, Kak Ndew. Mohon ditunggu interaksi ...</td>\n",
              "    </tr>\n",
              "    <tr>\n",
              "      <th>4</th>\n",
              "      <td>Hai, Kak Faroeq. Maafin banget, mengenai kelu...</td>\n",
              "    </tr>\n",
              "    <tr>\n",
              "      <th>5</th>\n",
              "      <td>_orr Halo, Kak Ndew. Jika ada pertanyaan atau ...</td>\n",
              "    </tr>\n",
              "    <tr>\n",
              "      <th>6</th>\n",
              "      <td>Baik, Kak. Jika Kakak udah konfirmasi ke DM m...</td>\n",
              "    </tr>\n",
              "    <tr>\n",
              "      <th>7</th>\n",
              "      <td>23ramadhan1 Halo, Kak Arul. Maaf banget ya, mi...</td>\n",
              "    </tr>\n",
              "    <tr>\n",
              "      <th>8</th>\n",
              "      <td>Hai, Kak. Terima kasih atas feedback yang dib...</td>\n",
              "    </tr>\n",
              "    <tr>\n",
              "      <th>9</th>\n",
              "      <td>Hai, Kak Ely. Mimin infoin ya mengenai kuota ...</td>\n",
              "    </tr>\n",
              "    <tr>\n",
              "      <th>10</th>\n",
              "      <td>Hai, Kak Rosyda. Mengenai ingin melakukan pem...</td>\n",
              "    </tr>\n",
              "    <tr>\n",
              "      <th>11</th>\n",
              "      <td>_BrajaSa Makasih untuk DM nya, Kak Bayu. Silak...</td>\n",
              "    </tr>\n",
              "    <tr>\n",
              "      <th>12</th>\n",
              "      <td>_ Baik, Kak Icans. Maaf ya bikin gak nyaman. S...</td>\n",
              "    </tr>\n",
              "    <tr>\n",
              "      <th>13</th>\n",
              "      <td>7 Hai, Kak Vany. Maaf ya, mengenai keluhan jar...</td>\n",
              "    </tr>\n",
              "    <tr>\n",
              "      <th>14</th>\n",
              "      <td>_BrajaSa Halo, Kak Bayu. Ganti kartu karena ru...</td>\n",
              "    </tr>\n",
              "    <tr>\n",
              "      <th>15</th>\n",
              "      <td>_Bara Hai, Kak Bara. Maaf ya, mengenai keluhan...</td>\n",
              "    </tr>\n",
              "    <tr>\n",
              "      <th>16</th>\n",
              "      <td>_Mansony yuk infokan lokasi Kakak via DM agar ...</td>\n",
              "    </tr>\n",
              "    <tr>\n",
              "      <th>17</th>\n",
              "      <td>_Mansony Hai, Kak Chidi. Maaf ya. Terkait kend...</td>\n",
              "    </tr>\n",
              "    <tr>\n",
              "      <th>18</th>\n",
              "      <td>_rahardjo Hai, Kak Januar. Seperti info dari r...</td>\n",
              "    </tr>\n",
              "    <tr>\n",
              "      <th>19</th>\n",
              "      <td>_s Baik, Kak Yoga. Mohon berkenan menunggu int...</td>\n",
              "    </tr>\n",
              "  </tbody>\n",
              "</table>\n",
              "</div>"
            ],
            "text/plain": [
              "                                               Tweets\n",
              "0    Ada yang bisa Mimin bantu? Silakan infokan de...\n",
              "1   86291207 Hai, Kak Zhena. Maaf ya untuk kendala...\n",
              "2    Baik, Kak. Jika Kakak udah konfirmasi ke DM m...\n",
              "3   _orr Siap, Kak Ndew. Mohon ditunggu interaksi ...\n",
              "4    Hai, Kak Faroeq. Maafin banget, mengenai kelu...\n",
              "5   _orr Halo, Kak Ndew. Jika ada pertanyaan atau ...\n",
              "6    Baik, Kak. Jika Kakak udah konfirmasi ke DM m...\n",
              "7   23ramadhan1 Halo, Kak Arul. Maaf banget ya, mi...\n",
              "8    Hai, Kak. Terima kasih atas feedback yang dib...\n",
              "9    Hai, Kak Ely. Mimin infoin ya mengenai kuota ...\n",
              "10   Hai, Kak Rosyda. Mengenai ingin melakukan pem...\n",
              "11  _BrajaSa Makasih untuk DM nya, Kak Bayu. Silak...\n",
              "12  _ Baik, Kak Icans. Maaf ya bikin gak nyaman. S...\n",
              "13  7 Hai, Kak Vany. Maaf ya, mengenai keluhan jar...\n",
              "14  _BrajaSa Halo, Kak Bayu. Ganti kartu karena ru...\n",
              "15  _Bara Hai, Kak Bara. Maaf ya, mengenai keluhan...\n",
              "16  _Mansony yuk infokan lokasi Kakak via DM agar ...\n",
              "17  _Mansony Hai, Kak Chidi. Maaf ya. Terkait kend...\n",
              "18  _rahardjo Hai, Kak Januar. Seperti info dari r...\n",
              "19  _s Baik, Kak Yoga. Mohon berkenan menunggu int..."
            ]
          },
          "metadata": {
            "tags": []
          },
          "execution_count": 14
        }
      ]
    },
    {
      "cell_type": "code",
      "metadata": {
        "id": "I0LxtCi-clIj",
        "outputId": "1b55020e-1de9-426e-ac3a-ab8aaeb1d3f2",
        "colab": {
          "base_uri": "https://localhost:8080/",
          "height": 669
        }
      },
      "source": [
        "# Create a function to get the subjectivity\r\n",
        "def getSubjectivity(text):\r\n",
        "   return TextBlob(text).sentiment.subjectivity\r\n",
        "\r\n",
        "# Create a function to get the polarity\r\n",
        "def getPolarity(text):\r\n",
        "   return  TextBlob(text).sentiment.polarity\r\n",
        "\r\n",
        "\r\n",
        "# Create two new columns 'Subjectivity' & 'Polarity'\r\n",
        "df['Subjectivity'] = df['Tweets'].apply(getSubjectivity)\r\n",
        "df['Polarity'] = df['Tweets'].apply(getPolarity)\r\n",
        "\r\n",
        "\r\n",
        "# Show the new dataframe with columns 'Subjectivity' & 'Polarity'\r\n",
        "df"
      ],
      "execution_count": 15,
      "outputs": [
        {
          "output_type": "execute_result",
          "data": {
            "text/html": [
              "<div>\n",
              "<style scoped>\n",
              "    .dataframe tbody tr th:only-of-type {\n",
              "        vertical-align: middle;\n",
              "    }\n",
              "\n",
              "    .dataframe tbody tr th {\n",
              "        vertical-align: top;\n",
              "    }\n",
              "\n",
              "    .dataframe thead th {\n",
              "        text-align: right;\n",
              "    }\n",
              "</style>\n",
              "<table border=\"1\" class=\"dataframe\">\n",
              "  <thead>\n",
              "    <tr style=\"text-align: right;\">\n",
              "      <th></th>\n",
              "      <th>Tweets</th>\n",
              "      <th>Subjectivity</th>\n",
              "      <th>Polarity</th>\n",
              "    </tr>\n",
              "  </thead>\n",
              "  <tbody>\n",
              "    <tr>\n",
              "      <th>0</th>\n",
              "      <td>Ada yang bisa Mimin bantu? Silakan infokan de...</td>\n",
              "      <td>1.000</td>\n",
              "      <td>0.500</td>\n",
              "    </tr>\n",
              "    <tr>\n",
              "      <th>1</th>\n",
              "      <td>86291207 Hai, Kak Zhena. Maaf ya untuk kendala...</td>\n",
              "      <td>0.700</td>\n",
              "      <td>0.050</td>\n",
              "    </tr>\n",
              "    <tr>\n",
              "      <th>2</th>\n",
              "      <td>Baik, Kak. Jika Kakak udah konfirmasi ke DM m...</td>\n",
              "      <td>1.000</td>\n",
              "      <td>0.500</td>\n",
              "    </tr>\n",
              "    <tr>\n",
              "      <th>3</th>\n",
              "      <td>_orr Siap, Kak Ndew. Mohon ditunggu interaksi ...</td>\n",
              "      <td>1.000</td>\n",
              "      <td>0.500</td>\n",
              "    </tr>\n",
              "    <tr>\n",
              "      <th>4</th>\n",
              "      <td>Hai, Kak Faroeq. Maafin banget, mengenai kelu...</td>\n",
              "      <td>1.000</td>\n",
              "      <td>0.500</td>\n",
              "    </tr>\n",
              "    <tr>\n",
              "      <th>5</th>\n",
              "      <td>_orr Halo, Kak Ndew. Jika ada pertanyaan atau ...</td>\n",
              "      <td>1.000</td>\n",
              "      <td>0.500</td>\n",
              "    </tr>\n",
              "    <tr>\n",
              "      <th>6</th>\n",
              "      <td>Baik, Kak. Jika Kakak udah konfirmasi ke DM m...</td>\n",
              "      <td>1.000</td>\n",
              "      <td>0.500</td>\n",
              "    </tr>\n",
              "    <tr>\n",
              "      <th>7</th>\n",
              "      <td>23ramadhan1 Halo, Kak Arul. Maaf banget ya, mi...</td>\n",
              "      <td>1.000</td>\n",
              "      <td>0.500</td>\n",
              "    </tr>\n",
              "    <tr>\n",
              "      <th>8</th>\n",
              "      <td>Hai, Kak. Terima kasih atas feedback yang dib...</td>\n",
              "      <td>1.000</td>\n",
              "      <td>0.500</td>\n",
              "    </tr>\n",
              "    <tr>\n",
              "      <th>9</th>\n",
              "      <td>Hai, Kak Ely. Mimin infoin ya mengenai kuota ...</td>\n",
              "      <td>1.000</td>\n",
              "      <td>0.500</td>\n",
              "    </tr>\n",
              "    <tr>\n",
              "      <th>10</th>\n",
              "      <td>Hai, Kak Rosyda. Mengenai ingin melakukan pem...</td>\n",
              "      <td>1.000</td>\n",
              "      <td>0.500</td>\n",
              "    </tr>\n",
              "    <tr>\n",
              "      <th>11</th>\n",
              "      <td>_BrajaSa Makasih untuk DM nya, Kak Bayu. Silak...</td>\n",
              "      <td>1.000</td>\n",
              "      <td>0.500</td>\n",
              "    </tr>\n",
              "    <tr>\n",
              "      <th>12</th>\n",
              "      <td>_ Baik, Kak Icans. Maaf ya bikin gak nyaman. S...</td>\n",
              "      <td>1.000</td>\n",
              "      <td>0.500</td>\n",
              "    </tr>\n",
              "    <tr>\n",
              "      <th>13</th>\n",
              "      <td>7 Hai, Kak Vany. Maaf ya, mengenai keluhan jar...</td>\n",
              "      <td>1.000</td>\n",
              "      <td>0.500</td>\n",
              "    </tr>\n",
              "    <tr>\n",
              "      <th>14</th>\n",
              "      <td>_BrajaSa Halo, Kak Bayu. Ganti kartu karena ru...</td>\n",
              "      <td>1.000</td>\n",
              "      <td>0.500</td>\n",
              "    </tr>\n",
              "    <tr>\n",
              "      <th>15</th>\n",
              "      <td>_Bara Hai, Kak Bara. Maaf ya, mengenai keluhan...</td>\n",
              "      <td>1.000</td>\n",
              "      <td>0.500</td>\n",
              "    </tr>\n",
              "    <tr>\n",
              "      <th>16</th>\n",
              "      <td>_Mansony yuk infokan lokasi Kakak via DM agar ...</td>\n",
              "      <td>1.000</td>\n",
              "      <td>0.500</td>\n",
              "    </tr>\n",
              "    <tr>\n",
              "      <th>17</th>\n",
              "      <td>_Mansony Hai, Kak Chidi. Maaf ya. Terkait kend...</td>\n",
              "      <td>0.000</td>\n",
              "      <td>0.000</td>\n",
              "    </tr>\n",
              "    <tr>\n",
              "      <th>18</th>\n",
              "      <td>_rahardjo Hai, Kak Januar. Seperti info dari r...</td>\n",
              "      <td>0.825</td>\n",
              "      <td>0.325</td>\n",
              "    </tr>\n",
              "    <tr>\n",
              "      <th>19</th>\n",
              "      <td>_s Baik, Kak Yoga. Mohon berkenan menunggu int...</td>\n",
              "      <td>1.000</td>\n",
              "      <td>0.500</td>\n",
              "    </tr>\n",
              "  </tbody>\n",
              "</table>\n",
              "</div>"
            ],
            "text/plain": [
              "                                               Tweets  Subjectivity  Polarity\n",
              "0    Ada yang bisa Mimin bantu? Silakan infokan de...         1.000     0.500\n",
              "1   86291207 Hai, Kak Zhena. Maaf ya untuk kendala...         0.700     0.050\n",
              "2    Baik, Kak. Jika Kakak udah konfirmasi ke DM m...         1.000     0.500\n",
              "3   _orr Siap, Kak Ndew. Mohon ditunggu interaksi ...         1.000     0.500\n",
              "4    Hai, Kak Faroeq. Maafin banget, mengenai kelu...         1.000     0.500\n",
              "5   _orr Halo, Kak Ndew. Jika ada pertanyaan atau ...         1.000     0.500\n",
              "6    Baik, Kak. Jika Kakak udah konfirmasi ke DM m...         1.000     0.500\n",
              "7   23ramadhan1 Halo, Kak Arul. Maaf banget ya, mi...         1.000     0.500\n",
              "8    Hai, Kak. Terima kasih atas feedback yang dib...         1.000     0.500\n",
              "9    Hai, Kak Ely. Mimin infoin ya mengenai kuota ...         1.000     0.500\n",
              "10   Hai, Kak Rosyda. Mengenai ingin melakukan pem...         1.000     0.500\n",
              "11  _BrajaSa Makasih untuk DM nya, Kak Bayu. Silak...         1.000     0.500\n",
              "12  _ Baik, Kak Icans. Maaf ya bikin gak nyaman. S...         1.000     0.500\n",
              "13  7 Hai, Kak Vany. Maaf ya, mengenai keluhan jar...         1.000     0.500\n",
              "14  _BrajaSa Halo, Kak Bayu. Ganti kartu karena ru...         1.000     0.500\n",
              "15  _Bara Hai, Kak Bara. Maaf ya, mengenai keluhan...         1.000     0.500\n",
              "16  _Mansony yuk infokan lokasi Kakak via DM agar ...         1.000     0.500\n",
              "17  _Mansony Hai, Kak Chidi. Maaf ya. Terkait kend...         0.000     0.000\n",
              "18  _rahardjo Hai, Kak Januar. Seperti info dari r...         0.825     0.325\n",
              "19  _s Baik, Kak Yoga. Mohon berkenan menunggu int...         1.000     0.500"
            ]
          },
          "metadata": {
            "tags": []
          },
          "execution_count": 15
        }
      ]
    },
    {
      "cell_type": "code",
      "metadata": {
        "id": "W8Jv_2qtcpNN",
        "outputId": "7218d6ae-4d1b-4d0c-d979-1067f330916b",
        "colab": {
          "base_uri": "https://localhost:8080/",
          "height": 265
        }
      },
      "source": [
        "# word cloud visualization\r\n",
        "allWords = ' '.join([twts for twts in df['Tweets']])\r\n",
        "wordCloud = WordCloud(width=500, height=300, random_state=10, max_font_size=110).generate(allWords)\r\n",
        "\r\n",
        "plt.imshow(wordCloud, interpolation=\"bilinear\")\r\n",
        "plt.axis('off')\r\n",
        "plt.show"
      ],
      "execution_count": 16,
      "outputs": [
        {
          "output_type": "execute_result",
          "data": {
            "text/plain": [
              "<function matplotlib.pyplot.show>"
            ]
          },
          "metadata": {
            "tags": []
          },
          "execution_count": 16
        },
        {
          "output_type": "display_data",
          "data": {
            "image/png": "[encoded data removed]",
            "text/plain": [
              "<Figure size 432x288 with 1 Axes>"
            ]
          },
          "metadata": {
            "tags": [],
            "needs_background": "light"
          }
        }
      ]
    },
    {
      "cell_type": "code",
      "metadata": {
        "id": "B0nuzjbbcsnE",
        "outputId": "dce9d12a-2369-4d7e-d46b-0cffc3e25a33",
        "colab": {
          "base_uri": "https://localhost:8080/",
          "height": 669
        }
      },
      "source": [
        "#Create a function to compute negative (-1), netral (0) and positive (+1) analysis\r\n",
        "def getAnalysis(score):\r\n",
        "\r\n",
        "  if score < 0:\r\n",
        "    return 'Negative'\r\n",
        "  elif score == 0:\r\n",
        "    return 'Netral'\r\n",
        "  else:\r\n",
        "    return 'Positive'\r\n",
        "df['Analysis'] = df['Polarity'].apply(getAnalysis)\r\n",
        "#Show the dataframe\r\n",
        "df "
      ],
      "execution_count": 17,
      "outputs": [
        {
          "output_type": "execute_result",
          "data": {
            "text/html": [
              "<div>\n",
              "<style scoped>\n",
              "    .dataframe tbody tr th:only-of-type {\n",
              "        vertical-align: middle;\n",
              "    }\n",
              "\n",
              "    .dataframe tbody tr th {\n",
              "        vertical-align: top;\n",
              "    }\n",
              "\n",
              "    .dataframe thead th {\n",
              "        text-align: right;\n",
              "    }\n",
              "</style>\n",
              "<table border=\"1\" class=\"dataframe\">\n",
              "  <thead>\n",
              "    <tr style=\"text-align: right;\">\n",
              "      <th></th>\n",
              "      <th>Tweets</th>\n",
              "      <th>Subjectivity</th>\n",
              "      <th>Polarity</th>\n",
              "      <th>Analysis</th>\n",
              "    </tr>\n",
              "  </thead>\n",
              "  <tbody>\n",
              "    <tr>\n",
              "      <th>0</th>\n",
              "      <td>Ada yang bisa Mimin bantu? Silakan infokan de...</td>\n",
              "      <td>1.000</td>\n",
              "      <td>0.500</td>\n",
              "      <td>Positive</td>\n",
              "    </tr>\n",
              "    <tr>\n",
              "      <th>1</th>\n",
              "      <td>86291207 Hai, Kak Zhena. Maaf ya untuk kendala...</td>\n",
              "      <td>0.700</td>\n",
              "      <td>0.050</td>\n",
              "      <td>Positive</td>\n",
              "    </tr>\n",
              "    <tr>\n",
              "      <th>2</th>\n",
              "      <td>Baik, Kak. Jika Kakak udah konfirmasi ke DM m...</td>\n",
              "      <td>1.000</td>\n",
              "      <td>0.500</td>\n",
              "      <td>Positive</td>\n",
              "    </tr>\n",
              "    <tr>\n",
              "      <th>3</th>\n",
              "      <td>_orr Siap, Kak Ndew. Mohon ditunggu interaksi ...</td>\n",
              "      <td>1.000</td>\n",
              "      <td>0.500</td>\n",
              "      <td>Positive</td>\n",
              "    </tr>\n",
              "    <tr>\n",
              "      <th>4</th>\n",
              "      <td>Hai, Kak Faroeq. Maafin banget, mengenai kelu...</td>\n",
              "      <td>1.000</td>\n",
              "      <td>0.500</td>\n",
              "      <td>Positive</td>\n",
              "    </tr>\n",
              "    <tr>\n",
              "      <th>5</th>\n",
              "      <td>_orr Halo, Kak Ndew. Jika ada pertanyaan atau ...</td>\n",
              "      <td>1.000</td>\n",
              "      <td>0.500</td>\n",
              "      <td>Positive</td>\n",
              "    </tr>\n",
              "    <tr>\n",
              "      <th>6</th>\n",
              "      <td>Baik, Kak. Jika Kakak udah konfirmasi ke DM m...</td>\n",
              "      <td>1.000</td>\n",
              "      <td>0.500</td>\n",
              "      <td>Positive</td>\n",
              "    </tr>\n",
              "    <tr>\n",
              "      <th>7</th>\n",
              "      <td>23ramadhan1 Halo, Kak Arul. Maaf banget ya, mi...</td>\n",
              "      <td>1.000</td>\n",
              "      <td>0.500</td>\n",
              "      <td>Positive</td>\n",
              "    </tr>\n",
              "    <tr>\n",
              "      <th>8</th>\n",
              "      <td>Hai, Kak. Terima kasih atas feedback yang dib...</td>\n",
              "      <td>1.000</td>\n",
              "      <td>0.500</td>\n",
              "      <td>Positive</td>\n",
              "    </tr>\n",
              "    <tr>\n",
              "      <th>9</th>\n",
              "      <td>Hai, Kak Ely. Mimin infoin ya mengenai kuota ...</td>\n",
              "      <td>1.000</td>\n",
              "      <td>0.500</td>\n",
              "      <td>Positive</td>\n",
              "    </tr>\n",
              "    <tr>\n",
              "      <th>10</th>\n",
              "      <td>Hai, Kak Rosyda. Mengenai ingin melakukan pem...</td>\n",
              "      <td>1.000</td>\n",
              "      <td>0.500</td>\n",
              "      <td>Positive</td>\n",
              "    </tr>\n",
              "    <tr>\n",
              "      <th>11</th>\n",
              "      <td>_BrajaSa Makasih untuk DM nya, Kak Bayu. Silak...</td>\n",
              "      <td>1.000</td>\n",
              "      <td>0.500</td>\n",
              "      <td>Positive</td>\n",
              "    </tr>\n",
              "    <tr>\n",
              "      <th>12</th>\n",
              "      <td>_ Baik, Kak Icans. Maaf ya bikin gak nyaman. S...</td>\n",
              "      <td>1.000</td>\n",
              "      <td>0.500</td>\n",
              "      <td>Positive</td>\n",
              "    </tr>\n",
              "    <tr>\n",
              "      <th>13</th>\n",
              "      <td>7 Hai, Kak Vany. Maaf ya, mengenai keluhan jar...</td>\n",
              "      <td>1.000</td>\n",
              "      <td>0.500</td>\n",
              "      <td>Positive</td>\n",
              "    </tr>\n",
              "    <tr>\n",
              "      <th>14</th>\n",
              "      <td>_BrajaSa Halo, Kak Bayu. Ganti kartu karena ru...</td>\n",
              "      <td>1.000</td>\n",
              "      <td>0.500</td>\n",
              "      <td>Positive</td>\n",
              "    </tr>\n",
              "    <tr>\n",
              "      <th>15</th>\n",
              "      <td>_Bara Hai, Kak Bara. Maaf ya, mengenai keluhan...</td>\n",
              "      <td>1.000</td>\n",
              "      <td>0.500</td>\n",
              "      <td>Positive</td>\n",
              "    </tr>\n",
              "    <tr>\n",
              "      <th>16</th>\n",
              "      <td>_Mansony yuk infokan lokasi Kakak via DM agar ...</td>\n",
              "      <td>1.000</td>\n",
              "      <td>0.500</td>\n",
              "      <td>Positive</td>\n",
              "    </tr>\n",
              "    <tr>\n",
              "      <th>17</th>\n",
              "      <td>_Mansony Hai, Kak Chidi. Maaf ya. Terkait kend...</td>\n",
              "      <td>0.000</td>\n",
              "      <td>0.000</td>\n",
              "      <td>Netral</td>\n",
              "    </tr>\n",
              "    <tr>\n",
              "      <th>18</th>\n",
              "      <td>_rahardjo Hai, Kak Januar. Seperti info dari r...</td>\n",
              "      <td>0.825</td>\n",
              "      <td>0.325</td>\n",
              "      <td>Positive</td>\n",
              "    </tr>\n",
              "    <tr>\n",
              "      <th>19</th>\n",
              "      <td>_s Baik, Kak Yoga. Mohon berkenan menunggu int...</td>\n",
              "      <td>1.000</td>\n",
              "      <td>0.500</td>\n",
              "      <td>Positive</td>\n",
              "    </tr>\n",
              "  </tbody>\n",
              "</table>\n",
              "</div>"
            ],
            "text/plain": [
              "                                               Tweets  ...  Analysis\n",
              "0    Ada yang bisa Mimin bantu? Silakan infokan de...  ...  Positive\n",
              "1   86291207 Hai, Kak Zhena. Maaf ya untuk kendala...  ...  Positive\n",
              "2    Baik, Kak. Jika Kakak udah konfirmasi ke DM m...  ...  Positive\n",
              "3   _orr Siap, Kak Ndew. Mohon ditunggu interaksi ...  ...  Positive\n",
              "4    Hai, Kak Faroeq. Maafin banget, mengenai kelu...  ...  Positive\n",
              "5   _orr Halo, Kak Ndew. Jika ada pertanyaan atau ...  ...  Positive\n",
              "6    Baik, Kak. Jika Kakak udah konfirmasi ke DM m...  ...  Positive\n",
              "7   23ramadhan1 Halo, Kak Arul. Maaf banget ya, mi...  ...  Positive\n",
              "8    Hai, Kak. Terima kasih atas feedback yang dib...  ...  Positive\n",
              "9    Hai, Kak Ely. Mimin infoin ya mengenai kuota ...  ...  Positive\n",
              "10   Hai, Kak Rosyda. Mengenai ingin melakukan pem...  ...  Positive\n",
              "11  _BrajaSa Makasih untuk DM nya, Kak Bayu. Silak...  ...  Positive\n",
              "12  _ Baik, Kak Icans. Maaf ya bikin gak nyaman. S...  ...  Positive\n",
              "13  7 Hai, Kak Vany. Maaf ya, mengenai keluhan jar...  ...  Positive\n",
              "14  _BrajaSa Halo, Kak Bayu. Ganti kartu karena ru...  ...  Positive\n",
              "15  _Bara Hai, Kak Bara. Maaf ya, mengenai keluhan...  ...  Positive\n",
              "16  _Mansony yuk infokan lokasi Kakak via DM agar ...  ...  Positive\n",
              "17  _Mansony Hai, Kak Chidi. Maaf ya. Terkait kend...  ...    Netral\n",
              "18  _rahardjo Hai, Kak Januar. Seperti info dari r...  ...  Positive\n",
              "19  _s Baik, Kak Yoga. Mohon berkenan menunggu int...  ...  Positive\n",
              "\n",
              "[20 rows x 4 columns]"
            ]
          },
          "metadata": {
            "tags": []
          },
          "execution_count": 17
        }
      ]
    },
    {
      "cell_type": "code",
      "metadata": {
        "id": "w0MWn8D1cyNI",
        "outputId": "6dc533a5-bb46-40be-b974-26e2097f3f2e",
        "colab": {
          "base_uri": "https://localhost:8080/"
        }
      },
      "source": [
        "# Printing positive tweets \r\n",
        "print('Printing positive tweets:\\n')\r\n",
        "j=1\r\n",
        "sortedDF = df.sort_values(by=['Polarity']) #Sort the tweets\r\n",
        "for i in range(0, sortedDF.shape[0] ):\r\n",
        "  if( sortedDF['Analysis'][i] == 'Positive'):\r\n",
        "    print(str(j) + ') '+ sortedDF['Tweets'][i])\r\n",
        "    print()\r\n",
        "    j= j+1"
      ],
      "execution_count": 18,
      "outputs": [
        {
          "output_type": "stream",
          "text": [
            "Printing positive tweets:\n",
            "\n",
            "1)  Ada yang bisa Mimin bantu? Silakan infokan detail pertanyaan atau keluhan seputar produk dan layanan Telkomsel ya, agar dapat Mimin bantu dengan solusi yang tepat. Makasih :) -Milea\n",
            "\n",
            "2) 86291207 Hai, Kak Zhena. Maaf ya untuk kendala ga bisa akses game PUBG, apakah sudah Refresh Jaringan dengan cara Airplane mode (ON lalu OFF)? Jika sudah, yuk infokan nomor HP, tanggal kejadian dan lokasi yang berkendala via DM ya. Tks :) -Rayan\n",
            "\n",
            "3)  Baik, Kak. Jika Kakak udah konfirmasi ke DM maka saat ini DM Kakak sudah masuk antrian. Mohon menunggu interaksi selanjutnya via DM ya Kak. Makasih :) - Milea\n",
            "\n",
            "4) _orr Siap, Kak Ndew. Mohon ditunggu interaksi selanjutnya via DM ya, Kak. Tks :) -Rayan\n",
            "\n",
            "5)  Hai, Kak Faroeq. Maafin banget, mengenai keluhan gabisa koneksi internet. Silakan infokan data berikut via DM biar dibantu cek dan privasi terjaga:\n",
            "1. Nomor HP,\n",
            "2. Tanggal dan waktu kejadian,\n",
            "3. Lokasi detail,\n",
            "4. Nomor Telkomsel lain yang berkendala. Makasih :) -Kimmy\n",
            "\n",
            "6) _orr Halo, Kak Ndew. Jika ada pertanyaan atau keluhan seputar produk dan layanan Telkomsel, silakan infokan detailnya agar mimin bisa membantu ya. Tks :) -Rayan\n",
            "\n",
            "7)  Baik, Kak. Jika Kakak udah konfirmasi ke DM maka saat ini DM Kakak sudah masuk antrian. Mohon menunggu interaksi selanjutnya via DM ya Kak. Makasih :) - Milea\n",
            "\n",
            "8) 23ramadhan1 Halo, Kak Arul. Maaf banget ya, mimin cek saat ini udah ada interaksi sama rekan mimin di DM ya. Silakan melanjutkan interaksinya via DM ya, Kak. Oh iya, mimin saranin capture Vouchernya jangan dipost di sini ya, Kak. Makasih :) -Kimmy\n",
            "\n",
            "9)  Hai, Kak. Terima kasih atas feedback yang diberikan kepada kami. Telkomsel akan terus mengupayakan yang terbaik untuk pelanggan. Tetap setia menggunakan produk Telkomsel ya Kak :) -Rayan\n",
            "\n",
            "10)  Hai, Kak Ely. Mimin infoin ya mengenai kuota ketengan dapat Kakak cek di aplikasi MyTelkomsel atau melalui dial *36 3 ya Kak. Makasih :) -Milea\n",
            "\n",
            "11)  Hai, Kak Rosyda. Mengenai ingin melakukan pembelian masa aktif Kakak bisa dial di *99 9 ya Kak dan ikuti petunjuk selanjutnya. Makasih :) -Milea\n",
            "\n",
            "12) _BrajaSa Makasih untuk DM nya, Kak Bayu. Silakan tunggu interaksi selanjutnya via DM ya, Kak :) -Rayan\n",
            "\n",
            "13) _ Baik, Kak Icans. Maaf ya bikin gak nyaman. Silakan hubungi mimin kembali jika masih mengalami kendala yang sama. Makasih :) -Milea\n",
            "\n",
            "14) 7 Hai, Kak Vany. Maaf ya, mengenai keluhan jaringan lambat, apakah sudah Refresh Jaringan dengan cara Airplane mode (ON lalu OFF)? Jika sudah, yuk infokan nomor HP, tanggal kejadian dan lokasi yang berkendala via DM ya. Tks :) -Rayan\n",
            "\n",
            "15) _BrajaSa Halo, Kak Bayu. Ganti kartu karena rusak bisa mimin bantu secara online ya. Silakan Kakak infoin nomor yang digunakan via DM agar mimin bisa bantu cek. Makasih :) -Milea\n",
            "\n",
            "16) _Bara Hai, Kak Bara. Maaf ya, mengenai keluhan jaringan lambat, apakah sudah Refresh Jaringan dengan cara Airplane mode (ON lalu OFF)? Jika sudah, yuk infokan nomor HP, tanggal kejadian dan lokasi yang berkendala via DM ya. Tks :) -Rayan\n",
            "\n",
            "17) _Mansony yuk infokan lokasi Kakak via DM agar dibantu cek dan privasi terjaga. Makasih :) -Agnes (2/2)\n",
            "\n",
            "18) _rahardjo Hai, Kak Januar. Seperti info dari rekan mimin ya, bahwa akan dikenakan tarif normal ya Kak. Makasih :) -Milea\n",
            "\n",
            "19) _s Baik, Kak Yoga. Mohon berkenan menunggu interaksi selanjutnya via DM ya Kak. Makasih :) -Agnes\n",
            "\n"
          ],
          "name": "stdout"
        }
      ]
    },
    {
      "cell_type": "code",
      "metadata": {
        "id": "1gxUqiZCc13C",
        "outputId": "6a3a92cb-f694-4547-a251-c42ec5831f30",
        "colab": {
          "base_uri": "https://localhost:8080/"
        }
      },
      "source": [
        "# Printing negative tweets  \r\n",
        "print('Printing negative tweets:\\n')\r\n",
        "j=1\r\n",
        "sortedDF = df.sort_values(by=['Polarity'],ascending=False) #Sort the tweets\r\n",
        "for i in range(0, sortedDF.shape[0] ):\r\n",
        "  if( sortedDF['Analysis'][i] == 'Negative'):\r\n",
        "    print(str(j) + ') '+sortedDF['Tweets'][i])\r\n",
        "    print()\r\n",
        "    j=j+1"
      ],
      "execution_count": 19,
      "outputs": [
        {
          "output_type": "stream",
          "text": [
            "Printing negative tweets:\n",
            "\n"
          ],
          "name": "stdout"
        }
      ]
    },
    {
      "cell_type": "code",
      "metadata": {
        "id": "VQHV1RsFc5KL",
        "outputId": "3d431df4-652c-49e4-cfcf-81de40544a2f",
        "colab": {
          "base_uri": "https://localhost:8080/",
          "height": 405
        }
      },
      "source": [
        "# Plotting \r\n",
        "plt.figure(figsize=(8,6)) \r\n",
        "for i in range(0, df.shape[0]):\r\n",
        "  plt.scatter(df[\"Polarity\"][i], df[\"Subjectivity\"][i], color='Blue') \r\n",
        "# plt.scatter(x,y,color)   \r\n",
        "plt.title('Sentiment Analysis') \r\n",
        "plt.xlabel('Polarity') \r\n",
        "plt.ylabel('Subjectivity') \r\n",
        "plt.show()"
      ],
      "execution_count": 20,
      "outputs": [
        {
          "output_type": "display_data",
          "data": {
            "image/png": "[encoded data removed]",
            "text/plain": [
              "<Figure size 576x432 with 1 Axes>"
            ]
          },
          "metadata": {
            "tags": [],
            "needs_background": "light"
          }
        }
      ]
    },
    {
      "cell_type": "code",
      "metadata": {
        "id": "q1vK4u8pc8Tc",
        "outputId": "856154ac-d48f-4ed9-8563-26e6a9f54201",
        "colab": {
          "base_uri": "https://localhost:8080/"
        }
      },
      "source": [
        "# Print the percentage of positive tweets\r\n",
        "ptweets = df[df.Analysis == 'Positive']\r\n",
        "ptweets = ptweets['Tweets']\r\n",
        "ptweets\r\n",
        "\r\n",
        "round( (ptweets.shape[0] / df.shape[0]) * 100 , 1)"
      ],
      "execution_count": 21,
      "outputs": [
        {
          "output_type": "execute_result",
          "data": {
            "text/plain": [
              "95.0"
            ]
          },
          "metadata": {
            "tags": []
          },
          "execution_count": 21
        }
      ]
    },
    {
      "cell_type": "code",
      "metadata": {
        "id": "6Orw9FC3c_yb",
        "outputId": "c47aeffc-d20b-41ae-fae2-b398391570cf",
        "colab": {
          "base_uri": "https://localhost:8080/"
        }
      },
      "source": [
        "# Print the percentage of negative tweets\r\n",
        "ntweets = df[df.Analysis == 'Negative']\r\n",
        "ntweets = ntweets['Tweets']\r\n",
        "ntweets\r\n",
        "\r\n",
        "round( (ntweets.shape[0] / df.shape[0]) * 100, 1)"
      ],
      "execution_count": 22,
      "outputs": [
        {
          "output_type": "execute_result",
          "data": {
            "text/plain": [
              "0.0"
            ]
          },
          "metadata": {
            "tags": []
          },
          "execution_count": 22
        }
      ]
    },
    {
      "cell_type": "code",
      "metadata": {
        "id": "9ZFOx5gPdCwr",
        "outputId": "9a5080b1-ce57-4543-cc3d-466f96d9928f",
        "colab": {
          "base_uri": "https://localhost:8080/"
        }
      },
      "source": [
        "# Show the value counts\r\n",
        "df['Analysis'].value_counts()"
      ],
      "execution_count": 23,
      "outputs": [
        {
          "output_type": "execute_result",
          "data": {
            "text/plain": [
              "Positive    19\n",
              "Netral       1\n",
              "Name: Analysis, dtype: int64"
            ]
          },
          "metadata": {
            "tags": []
          },
          "execution_count": 23
        }
      ]
    },
    {
      "cell_type": "code",
      "metadata": {
        "id": "bNIfecGwdVwO",
        "outputId": "8057f9bf-85a9-4c91-8df3-92f936bdf145",
        "colab": {
          "base_uri": "https://localhost:8080/",
          "height": 296
        }
      },
      "source": [
        "# Plotting and visualizing the counts\r\n",
        "plt.title('Sentiment Analysis Grab')\r\n",
        "plt.xlabel('Sentiment')\r\n",
        "plt.ylabel('Counts')\r\n",
        "df['Analysis'].value_counts().plot(kind = 'area')\r\n",
        "plt.show()"
      ],
      "execution_count": 25,
      "outputs": [
        {
          "output_type": "display_data",
          "data": {
            "image/png": "[encoded data removed]",
            "text/plain": [
              "<Figure size 432x288 with 1 Axes>"
            ]
          },
          "metadata": {
            "tags": [],
            "needs_background": "light"
          }
        }
      ]
    }
  ]
}